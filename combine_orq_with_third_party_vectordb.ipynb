{
  "cells": [
    {
      "cell_type": "markdown",
      "metadata": {
        "id": "8KNEuM_G83vi"
      },
      "source": [
        "[![Open In Colab](https://colab.research.google.com/assets/colab-badge.svg)](https://colab.research.google.com/drive/1hGfRFWo_UwnEIQJvrBw6XIuHjm0ovBY3#scrollTo=8KNEuM_G83vi) [![Open nbviewer](https://raw.githubusercontent.com/pinecone-io/examples/master/assets/nbviewer-shield.svg)](https://colab.research.google.com/drive/1hGfRFWo_UwnEIQJvrBw6XIuHjm0ovBY3#scrollTo=8KNEuM_G83vi)\n",
        "\n",
        "# Using Third Party Vector Databases with Orq.ai\n",
        "\n",
        "This quick guide demonstrates how to connect and use third party vector databases like Pinecone with your Orq pipelines for custom retrieval use cases.\n",
        "\n",
        "Before you begin, make sure you have an Orq account. If you do not have one yet, sign up here. If you prefer to skip setup and start experimenting right away, we have prepared a Google Colab file that you can copy and run. Just drop in your API key and Pinecone credentials and you are ready to go.\n",
        "\n",
        "Note: Orq also includes a fully hosted knowledge base powered by Pinecone. This is a great option if you want to enable retrieval without managing infrastructure. This guide is for users who prefer to connect their own Pinecone project or another third party vector database."
      ]
    },
    {
      "cell_type": "markdown",
      "metadata": {
        "id": "mjJUDk6xAA_r"
      },
      "source": [
        "### Step 1: Install Dependencies\n",
        "\n",
        "Pinecone provides [SDKs](https://docs.pinecone.io/reference/pinecone-sdks) in multiple languages.\n",
        "\n",
        "Start by installing the required packages. You will need the Orq SDK along with the Pinecone client and supporting tools."
      ]
    },
    {
      "cell_type": "code",
      "execution_count": null,
      "metadata": {
        "id": "4SudLike98WL",
        "outputId": "fddb8f6e-ca03-4d65-bfea-969faacf601f",
        "colab": {
          "base_uri": "https://localhost:8080/"
        }
      },
      "outputs": [
        {
          "output_type": "stream",
          "name": "stdout",
          "text": [
            "\u001b[?25l   \u001b[90m━━━━━━━━━━━━━━━━━━━━━━━━━━━━━━━━━━━━━━━━\u001b[0m \u001b[32m0.0/421.9 kB\u001b[0m \u001b[31m?\u001b[0m eta \u001b[36m-:--:--\u001b[0m\r\u001b[2K   \u001b[91m━━━━━━━━━━━━━━━━━━━━━━━━━━━\u001b[0m\u001b[90m╺\u001b[0m\u001b[90m━━━━━━━━━━━━\u001b[0m \u001b[32m286.7/421.9 kB\u001b[0m \u001b[31m8.4 MB/s\u001b[0m eta \u001b[36m0:00:01\u001b[0m\r\u001b[2K   \u001b[90m━━━━━━━━━━━━━━━━━━━━━━━━━━━━━━━━━━━━━━━━\u001b[0m \u001b[32m421.9/421.9 kB\u001b[0m \u001b[31m8.4 MB/s\u001b[0m eta \u001b[36m0:00:00\u001b[0m\n",
            "\u001b[?25h\u001b[?25l   \u001b[90m━━━━━━━━━━━━━━━━━━━━━━━━━━━━━━━━━━━━━━━━\u001b[0m \u001b[32m0.0/185.2 kB\u001b[0m \u001b[31m?\u001b[0m eta \u001b[36m-:--:--\u001b[0m\r\u001b[2K   \u001b[90m━━━━━━━━━━━━━━━━━━━━━━━━━━━━━━━━━━━━━━━━\u001b[0m \u001b[32m185.2/185.2 kB\u001b[0m \u001b[31m14.2 MB/s\u001b[0m eta \u001b[36m0:00:00\u001b[0m\n",
            "\u001b[?25h"
          ]
        }
      ],
      "source": [
        "!pip install -qU \\\n",
        "    pinecone==6.0.2 \\\n",
        "    pinecone-notebooks \\\n",
        "    orq-ai-sdk \\\n",
        "    requests"
      ]
    },
    {
      "cell_type": "markdown",
      "metadata": {
        "id": "WoDXUiIkD1U7"
      },
      "source": [
        "#### Get an API key\n",
        "\n",
        "You need an API key to make calls to your Pinecone project.\n",
        "\n",
        "Use the widget below to generate a key. If you don't have a Pinecone account, the widget will sign you up for the free Starter plan."
      ]
    },
    {
      "cell_type": "code",
      "execution_count": null,
      "metadata": {
        "colab": {
          "base_uri": "https://localhost:8080/",
          "height": 247
        },
        "id": "89S8G8oP61-t",
        "outputId": "0e9bf8eb-02d6-4f96-db5b-6002e89b7784"
      },
      "outputs": [
        {
          "output_type": "display_data",
          "data": {
            "text/plain": [
              "<IPython.core.display.HTML object>"
            ],
            "text/html": [
              "<script type=\"text/javascript\" src=\"https://connect.pinecone.io/embed.js\"></script>"
            ]
          },
          "metadata": {}
        }
      ],
      "source": [
        "import os\n",
        "\n",
        "if not os.environ.get(\"PINECONE_API_KEY\"):\n",
        "    from pinecone_notebooks.colab import Authenticate\n",
        "    Authenticate()"
      ]
    },
    {
      "cell_type": "code",
      "source": [
        "%env ORQ_API_KEY=<YOUR_ORQ_API_KEY>"
      ],
      "metadata": {
        "colab": {
          "base_uri": "https://localhost:8080/"
        },
        "id": "VLjLAvnWgMrA",
        "outputId": "676d4585-63a2-4b41-f77d-40ead2690986"
      },
      "execution_count": null,
      "outputs": [
        {
          "output_type": "stream",
          "name": "stdout",
          "text": [
            "env: ORQ_API_KEY=<YOUR_ORQ_API_KEY>\n"
          ]
        }
      ]
    },
    {
      "cell_type": "markdown",
      "metadata": {
        "id": "sbJFp5DO5ryT"
      },
      "source": [
        "## Step 2: Initialize Orq and Pinecone\n",
        "\n",
        "Before we can create or query the vectorDB, we need to initialize both the Orq client and the Pinecone client.\n",
        "\n",
        "Use the generated Pinecone API key to intialize a Pinecone client:"
      ]
    },
    {
      "cell_type": "code",
      "execution_count": null,
      "metadata": {
        "id": "e9rr_u6ZIvZ-"
      },
      "outputs": [],
      "source": [
        "# Import the Pinecone library\n",
        "from pinecone import Pinecone\n",
        "\n",
        "# Initialize a Pinecone client with your API key\n",
        "api_key = os.environ.get(\"PINECONE_API_KEY\")\n",
        "pc = Pinecone(api_key=api_key)"
      ]
    },
    {
      "cell_type": "markdown",
      "source": [
        "### Initialize Orq"
      ],
      "metadata": {
        "id": "0h4yzGdTbQdQ"
      }
    },
    {
      "cell_type": "code",
      "source": [
        "# Initialize the Orq client\n",
        "import os\n",
        "from orq_ai_sdk import Orq\n",
        "\n",
        "client = Orq(\n",
        "  api_key=os.environ[\"ORQ_API_KEY\"],\n",
        ")"
      ],
      "metadata": {
        "id": "ZRTOHs6qNHdU"
      },
      "execution_count": null,
      "outputs": []
    },
    {
      "cell_type": "markdown",
      "metadata": {
        "id": "yfnoFFihfoY4"
      },
      "source": [
        "## Step 3: Create an index\n",
        "\n",
        "In Pinecone, there are two types of indexes for storing vector data: [Dense indexes](https://docs.pinecone.io/guides/indexes/understanding-indexes#dense-indexes) store dense vectors for semantic search, and [sparse indexes](https://docs.pinecone.io/guides/indexes/understanding-indexes#sparse-indexes) store sparse vectors for lexical/keyword search.\n",
        "\n",
        "For this quickstart, create a dense index that is integrated with an [embedding model hosted by Pinecone](https://docs.pinecone.io/guides/inference/understanding-inference#embedding-models). With integrated models, you upsert and search with text and have Pinecone generate vectors automatically.\n",
        "\n",
        "**Note:** If you prefer to use external embedding models, see [Bring your own vectors](https://docs.pinecone.io/guides/indexes/understanding-indexes#bring-your-own-vectors)."
      ]
    },
    {
      "cell_type": "code",
      "execution_count": null,
      "metadata": {
        "id": "FMyeNo6Afh4z"
      },
      "outputs": [],
      "source": [
        "# Create a dense index with integrated embedding\n",
        "\n",
        "index_name = \"dense-index\"\n",
        "\n",
        "if not pc.has_index(name=index_name):\n",
        "    pc.create_index_for_model(\n",
        "        name=index_name,\n",
        "        cloud=\"aws\",\n",
        "        region=\"us-east-1\",\n",
        "        embed={\n",
        "            \"model\":\"llama-text-embed-v2\",\n",
        "            \"field_map\":{\"text\": \"chunk_text\"}\n",
        "        }\n",
        "    )\n"
      ]
    },
    {
      "cell_type": "markdown",
      "metadata": {
        "id": "bN9Rl7GP258C"
      },
      "source": [
        "## Step 4: Upsert records\n",
        "\n",
        "Prepare a sample dataset of factual statements from different domains like history, physics, technology, and music. Format the data as records with an ID, text, and category. These objects are expected to contain a `chunk_text` key because of the `field_map` we specified when creating the index above.\n",
        "\n",
        "Other fields which are not mapped in the field mapping, like `category`, will become metadata on the upserted records."
      ]
    },
    {
      "cell_type": "code",
      "execution_count": null,
      "metadata": {
        "id": "ZIclo2UK3NFE"
      },
      "outputs": [],
      "source": [
        "# Define your dataset\n",
        "records = [\n",
        "    { \"_id\": \"rec1\", \"chunk_text\": \"The Eiffel Tower was completed in 1889 and stands in Paris, France.\", \"category\": \"history\" },\n",
        "    { \"_id\": \"rec2\", \"chunk_text\": \"Photosynthesis allows plants to convert sunlight into energy.\", \"category\": \"science\" },\n",
        "    { \"_id\": \"rec3\", \"chunk_text\": \"Albert Einstein developed the theory of relativity.\", \"category\": \"science\" },\n",
        "    { \"_id\": \"rec4\", \"chunk_text\": \"The mitochondrion is often called the powerhouse of the cell.\", \"category\": \"biology\" },\n",
        "    { \"_id\": \"rec5\", \"chunk_text\": \"Shakespeare wrote many famous plays, including Hamlet and Macbeth.\", \"category\": \"literature\" },\n",
        "    { \"_id\": \"rec6\", \"chunk_text\": \"Water boils at 100°C under standard atmospheric pressure.\", \"category\": \"physics\" },\n",
        "    { \"_id\": \"rec7\", \"chunk_text\": \"The Great Wall of China was built to protect against invasions.\", \"category\": \"history\" },\n",
        "    { \"_id\": \"rec8\", \"chunk_text\": \"Honey never spoils due to its low moisture content and acidity.\", \"category\": \"food science\" },\n",
        "    { \"_id\": \"rec9\", \"chunk_text\": \"The speed of light in a vacuum is approximately 299,792 km/s.\", \"category\": \"physics\" },\n",
        "    { \"_id\": \"rec10\", \"chunk_text\": \"Newton’s laws describe the motion of objects.\", \"category\": \"physics\" },\n",
        "    { \"_id\": \"rec11\", \"chunk_text\": \"The human brain has approximately 86 billion neurons.\", \"category\": \"biology\" },\n",
        "    { \"_id\": \"rec12\", \"chunk_text\": \"The Amazon Rainforest is one of the most biodiverse places on Earth.\", \"category\": \"geography\" },\n",
        "    { \"_id\": \"rec13\", \"chunk_text\": \"Black holes have gravitational fields so strong that not even light can escape.\", \"category\": \"astronomy\" },\n",
        "    { \"_id\": \"rec14\", \"chunk_text\": \"The periodic table organizes elements based on their atomic number.\", \"category\": \"chemistry\" },\n",
        "    { \"_id\": \"rec15\", \"chunk_text\": \"Leonardo da Vinci painted the Mona Lisa.\", \"category\": \"art\" },\n",
        "    { \"_id\": \"rec16\", \"chunk_text\": \"The internet revolutionized communication and information sharing.\", \"category\": \"technology\" },\n",
        "    { \"_id\": \"rec17\", \"chunk_text\": \"The Pyramids of Giza are among the Seven Wonders of the Ancient World.\", \"category\": \"history\" },\n",
        "    { \"_id\": \"rec18\", \"chunk_text\": \"Dogs have an incredible sense of smell, much stronger than humans.\", \"category\": \"biology\" },\n",
        "    { \"_id\": \"rec19\", \"chunk_text\": \"The Pacific Ocean is the largest and deepest ocean on Earth.\", \"category\": \"geography\" },\n",
        "    { \"_id\": \"rec20\", \"chunk_text\": \"Chess is a strategic game that originated in India.\", \"category\": \"games\" },\n",
        "    { \"_id\": \"rec21\", \"chunk_text\": \"The Statue of Liberty was a gift from France to the United States.\", \"category\": \"history\" },\n",
        "    { \"_id\": \"rec22\", \"chunk_text\": \"Coffee contains caffeine, a natural stimulant.\", \"category\": \"food science\" },\n",
        "    { \"_id\": \"rec23\", \"chunk_text\": \"Thomas Edison invented the practical electric light bulb.\", \"category\": \"inventions\" },\n",
        "    { \"_id\": \"rec24\", \"chunk_text\": \"The moon influences ocean tides due to gravitational pull.\", \"category\": \"astronomy\" },\n",
        "    { \"_id\": \"rec25\", \"chunk_text\": \"DNA carries genetic information for all living organisms.\", \"category\": \"biology\" },\n",
        "    { \"_id\": \"rec26\", \"chunk_text\": \"Rome was once the center of a vast empire.\", \"category\": \"history\" },\n",
        "    { \"_id\": \"rec27\", \"chunk_text\": \"The Wright brothers pioneered human flight in 1903.\", \"category\": \"inventions\" },\n",
        "    { \"_id\": \"rec28\", \"chunk_text\": \"Bananas are a good source of potassium.\", \"category\": \"nutrition\" },\n",
        "    { \"_id\": \"rec29\", \"chunk_text\": \"The stock market fluctuates based on supply and demand.\", \"category\": \"economics\" },\n",
        "    { \"_id\": \"rec30\", \"chunk_text\": \"A compass needle points toward the magnetic north pole.\", \"category\": \"navigation\" },\n",
        "    { \"_id\": \"rec31\", \"chunk_text\": \"The universe is expanding, according to the Big Bang theory.\", \"category\": \"astronomy\" },\n",
        "    { \"_id\": \"rec32\", \"chunk_text\": \"Elephants have excellent memory and strong social bonds.\", \"category\": \"biology\" },\n",
        "    { \"_id\": \"rec33\", \"chunk_text\": \"The violin is a string instrument commonly used in orchestras.\", \"category\": \"music\" },\n",
        "    { \"_id\": \"rec34\", \"chunk_text\": \"The heart pumps blood throughout the human body.\", \"category\": \"biology\" },\n",
        "    { \"_id\": \"rec35\", \"chunk_text\": \"Ice cream melts when exposed to heat.\", \"category\": \"food science\" },\n",
        "    { \"_id\": \"rec36\", \"chunk_text\": \"Solar panels convert sunlight into electricity.\", \"category\": \"technology\" },\n",
        "    { \"_id\": \"rec37\", \"chunk_text\": \"The French Revolution began in 1789.\", \"category\": \"history\" },\n",
        "    { \"_id\": \"rec38\", \"chunk_text\": \"The Taj Mahal is a mausoleum built by Emperor Shah Jahan.\", \"category\": \"history\" },\n",
        "    { \"_id\": \"rec39\", \"chunk_text\": \"Rainbows are caused by light refracting through water droplets.\", \"category\": \"physics\" },\n",
        "    { \"_id\": \"rec40\", \"chunk_text\": \"Mount Everest is the tallest mountain in the world.\", \"category\": \"geography\" },\n",
        "    { \"_id\": \"rec41\", \"chunk_text\": \"Octopuses are highly intelligent marine creatures.\", \"category\": \"biology\" },\n",
        "    { \"_id\": \"rec42\", \"chunk_text\": \"The speed of sound is around 343 meters per second in air.\", \"category\": \"physics\" },\n",
        "    { \"_id\": \"rec43\", \"chunk_text\": \"Gravity keeps planets in orbit around the sun.\", \"category\": \"astronomy\" },\n",
        "    { \"_id\": \"rec44\", \"chunk_text\": \"The Mediterranean diet is considered one of the healthiest in the world.\", \"category\": \"nutrition\" },\n",
        "    { \"_id\": \"rec45\", \"chunk_text\": \"A haiku is a traditional Japanese poem with a 5-7-5 syllable structure.\", \"category\": \"literature\" },\n",
        "    { \"_id\": \"rec46\", \"chunk_text\": \"The human body is made up of about 60% water.\", \"category\": \"biology\" },\n",
        "    { \"_id\": \"rec47\", \"chunk_text\": \"The Industrial Revolution transformed manufacturing and transportation.\", \"category\": \"history\" },\n",
        "    { \"_id\": \"rec48\", \"chunk_text\": \"Vincent van Gogh painted Starry Night.\", \"category\": \"art\" },\n",
        "    { \"_id\": \"rec49\", \"chunk_text\": \"Airplanes fly due to the principles of lift and aerodynamics.\", \"category\": \"physics\" },\n",
        "    { \"_id\": \"rec50\", \"chunk_text\": \"Renewable energy sources include wind, solar, and hydroelectric power.\", \"category\": \"energy\" }\n",
        "]"
      ]
    },
    {
      "cell_type": "markdown",
      "metadata": {
        "id": "f5vNb1pugnR5"
      },
      "source": [
        "[Upsert](https://docs.pinecone.io/guides/data/upsert-data) the sample dataset into a new namespace in your index.\n",
        "\n",
        "Because your index is integrated with an embedding model, you provide the textual statements and Pinecone converts them to dense vectors automatically."
      ]
    },
    {
      "cell_type": "code",
      "execution_count": null,
      "metadata": {
        "id": "WqDOcyz5gp1Z"
      },
      "outputs": [],
      "source": [
        "# Get an Index client for the index we created\n",
        "dense_index = pc.Index(name=index_name)\n",
        "\n",
        "# Upsert records into a namespace\n",
        "dense_index.upsert_records(\n",
        "    namespace=\"example-namespace-2\",\n",
        "    records=records\n",
        ")"
      ]
    },
    {
      "cell_type": "markdown",
      "metadata": {
        "id": "cxM2hdTjg1tS"
      },
      "source": [
        "## Step 5: Check index stats\n",
        "\n",
        "Pinecone is eventually consistent, so there can be a slight delay before new or changed records are visible to queries. You can [view index stats](https://docs.pinecone.io/guides/data/check-data-freshness#verify-record-counts) to check if the current vector count matches the number of vectors you upserted (50):"
      ]
    },
    {
      "cell_type": "code",
      "execution_count": null,
      "metadata": {
        "id": "z3B4RkEqg1US",
        "colab": {
          "base_uri": "https://localhost:8080/"
        },
        "outputId": "eb09b5e6-4f8c-4d8c-c882-f20903590fc0"
      },
      "outputs": [
        {
          "output_type": "execute_result",
          "data": {
            "text/plain": [
              "{'dimension': 1024,\n",
              " 'index_fullness': 0.0,\n",
              " 'metric': 'cosine',\n",
              " 'namespaces': {'example-namespace': {'vector_count': 50},\n",
              "                'example-namespace-2': {'vector_count': 50}},\n",
              " 'total_vector_count': 100,\n",
              " 'vector_type': 'dense'}"
            ]
          },
          "metadata": {},
          "execution_count": 11
        }
      ],
      "source": [
        "import time\n",
        "\n",
        "# Wait for the upserted vectors to be indexed\n",
        "time.sleep(10)\n",
        "\n",
        "# View stats for the index\n",
        "stats = dense_index.describe_index_stats()\n",
        "stats"
      ]
    },
    {
      "cell_type": "markdown",
      "metadata": {
        "id": "VpgIIsLlJGFf"
      },
      "source": [
        "## Step 6: Semantic search\n",
        "\n",
        "[Search the dense index](https://docs.pinecone.io/guides/data/query-data#semantic-search) for ten records that are most semantically similar to the query, `Famous historical structures and monuments`.\n",
        "\n",
        "Again, because your index is integrated with an embedding model, you provide the query as text and Pinecone converts the text to a dense vector automatically."
      ]
    },
    {
      "cell_type": "code",
      "execution_count": null,
      "metadata": {
        "id": "Buo2K1h8O_fN"
      },
      "outputs": [],
      "source": [
        "def print_results(search_results):\n",
        "    for hit in search_results['result']['hits']:\n",
        "        print(f\"id: {hit['_id']:<5} | score: {round(hit['_score'], 3):<5} | category: {hit['fields']['category']:<10} | text: {hit['fields']['chunk_text']:<50}\")\n"
      ]
    },
    {
      "cell_type": "code",
      "execution_count": null,
      "metadata": {
        "id": "oG4pjPkPXCqL",
        "colab": {
          "base_uri": "https://localhost:8080/"
        },
        "outputId": "1b1a3c62-d3a9-4c99-9f35-f2a60f434ea1"
      },
      "outputs": [
        {
          "output_type": "stream",
          "name": "stdout",
          "text": [
            "id: rec17 | score: 0.26  | category: history    | text: The Pyramids of Giza are among the Seven Wonders of the Ancient World.\n",
            "id: rec38 | score: 0.183 | category: history    | text: The Taj Mahal is a mausoleum built by Emperor Shah Jahan.\n",
            "id: rec5  | score: 0.179 | category: literature | text: Shakespeare wrote many famous plays, including Hamlet and Macbeth.\n",
            "id: rec15 | score: 0.105 | category: art        | text: Leonardo da Vinci painted the Mona Lisa.          \n",
            "id: rec50 | score: 0.094 | category: energy     | text: Renewable energy sources include wind, solar, and hydroelectric power.\n",
            "id: rec26 | score: 0.086 | category: history    | text: Rome was once the center of a vast empire.        \n",
            "id: rec1  | score: 0.079 | category: history    | text: The Eiffel Tower was completed in 1889 and stands in Paris, France.\n",
            "id: rec7  | score: 0.074 | category: history    | text: The Great Wall of China was built to protect against invasions.\n",
            "id: rec47 | score: 0.072 | category: history    | text: The Industrial Revolution transformed manufacturing and transportation.\n",
            "id: rec21 | score: 0.062 | category: history    | text: The Statue of Liberty was a gift from France to the United States.\n"
          ]
        }
      ],
      "source": [
        "from pinecone import SearchQuery, SearchRerank\n",
        "\n",
        "# Define the query\n",
        "query = \"Famous historical structures and monuments\"\n",
        "\n",
        "# Search the dense index\n",
        "results = dense_index.search(\n",
        "    namespace=\"example-namespace\",\n",
        "    query=SearchQuery(\n",
        "        top_k=10,\n",
        "        inputs={'text': query}\n",
        "    )\n",
        ")\n",
        "\n",
        "print_results(results)"
      ]
    },
    {
      "cell_type": "markdown",
      "metadata": {
        "id": "SFXzoE1thnXa"
      },
      "source": [
        "Notice that most of the results are about historical structures and monuments. However, a few unrelated statements are included as well and are ranked high in the list, for example, statements about Shakespeare and renewable energy.\n",
        "\n",
        "To get a more accurate ranking, search again but this time [rerank the initial results](https://docs.pinecone.io/guides/data/query-data#rerank-results) based on their relevance to the query."
      ]
    },
    {
      "cell_type": "markdown",
      "metadata": {
        "id": "AsVqrR2YipPM"
      },
      "source": [
        "## Step 7: Improve results\n",
        "\n",
        "Reranking results is one of the most effective ways to improve search accuracy and relevance, but there are many other techniques to consider. For example:\n",
        "\n",
        "* [Filtering by metadata](https://docs.pinecone.io/guides/data/query-data#filter-by-metadata): When records contain additional metadata, you can limit the search to records matching a filter expression.\n",
        "\n",
        "* [Hybrid search](https://docs.pinecone.io/guides/data/query-data#hybrid-search): You can add lexical search to capture precise keyword matches (e.g., product SKUs, email addresses, domain-specific terms) in addition to semantic matches.\n",
        "\n",
        "* [Chunking strategies](https://www.pinecone.io/learn/chunking-strategies/): You can chunk your content in different ways to get better results. Consider factors like the length of the content, the complexity of queries, and how results will be used in your application."
      ]
    },
    {
      "cell_type": "code",
      "execution_count": null,
      "metadata": {
        "id": "MaqbcsI4I1gU",
        "colab": {
          "base_uri": "https://localhost:8080/"
        },
        "outputId": "fd3b50dc-8b93-422b-c15f-24fc4175db75"
      },
      "outputs": [
        {
          "output_type": "stream",
          "name": "stdout",
          "text": [
            "id: rec1  | score: 0.107 | category: history    | text: The Eiffel Tower was completed in 1889 and stands in Paris, France.\n",
            "id: rec38 | score: 0.065 | category: history    | text: The Taj Mahal is a mausoleum built by Emperor Shah Jahan.\n",
            "id: rec7  | score: 0.062 | category: history    | text: The Great Wall of China was built to protect against invasions.\n",
            "id: rec21 | score: 0.019 | category: history    | text: The Statue of Liberty was a gift from France to the United States.\n",
            "id: rec17 | score: 0.015 | category: history    | text: The Pyramids of Giza are among the Seven Wonders of the Ancient World.\n",
            "id: rec26 | score: 0.011 | category: history    | text: Rome was once the center of a vast empire.        \n",
            "id: rec15 | score: 0.008 | category: art        | text: Leonardo da Vinci painted the Mona Lisa.          \n",
            "id: rec5  | score: 0.0   | category: literature | text: Shakespeare wrote many famous plays, including Hamlet and Macbeth.\n",
            "id: rec47 | score: 0.0   | category: history    | text: The Industrial Revolution transformed manufacturing and transportation.\n",
            "id: rec50 | score: 0.0   | category: energy     | text: Renewable energy sources include wind, solar, and hydroelectric power.\n"
          ]
        }
      ],
      "source": [
        "# Search the dense index and rerank results\n",
        "reranked_results = dense_index.search(\n",
        "    namespace=\"example-namespace\",\n",
        "    query=SearchQuery(\n",
        "        top_k=10,\n",
        "        inputs={'text': query}\n",
        "    ),\n",
        "    rerank=SearchRerank(\n",
        "        model=\"bge-reranker-v2-m3\",\n",
        "        top_n=10,\n",
        "        rank_fields=[\"chunk_text\"]\n",
        "    )\n",
        ")\n",
        "\n",
        "print_results(reranked_results)"
      ]
    },
    {
      "cell_type": "markdown",
      "metadata": {
        "id": "lfaATEz7hvqC"
      },
      "source": [
        "Notice that all of the most relevant results about historical structures and monuments are now ranked highest."
      ]
    },
    {
      "cell_type": "markdown",
      "source": [
        "## Step 8: How to Pass the Reranked Results to Orq.ai\n",
        "Once you have retrieved and optionally reranked results from Pinecone, the final step is to pass them into your Orq deployment for generation.\n",
        "\n",
        "The key is to store the original user query in a variable.\n",
        "This is the input that will be sent to Orq under the `query` field.\n",
        "The cleaned and reranked chunks from Pinecone should be passed under the `retrievals` field, allowing Orq to use them as contextual support for generation.\n",
        "\n",
        "This is what the system and user prompt look like configured in Orq:\n",
        "\n",
        "![Screenshot 2025-05-08 at 11.15.39.png](data:image/png;base64,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)\n",
        "\n"
      ],
      "metadata": {
        "id": "57nmxWvop1z-"
      }
    },
    {
      "cell_type": "code",
      "source": [
        "chunk_texts = [hit['fields']['chunk_text'] for hit in reranked_results['result']['hits']]\n"
      ],
      "metadata": {
        "id": "xI1_Rbc20ZVI"
      },
      "execution_count": null,
      "outputs": []
    },
    {
      "cell_type": "code",
      "source": [
        "retrievals = \"\\n\".join(chunk_texts)  # or \". \".join(...) if you want sentence-style joining"
      ],
      "metadata": {
        "id": "ol6eoyX3O3as"
      },
      "execution_count": null,
      "outputs": []
    },
    {
      "cell_type": "code",
      "source": [
        "generation = client.deployments.invoke(\n",
        "  key=\"pinecone-test\",\n",
        "  context={\n",
        "    \"environments\": []\n",
        "  },\n",
        "  inputs={\n",
        "    \"query\": query,\n",
        "    \"retrievals\": retrievals\n",
        "  },\n",
        "  metadata={\n",
        "    \"custom-field-name\": \"custom-metadata-value\"\n",
        "  }\n",
        ")\n",
        "\n",
        "print(generation.choices[0].message.content)"
      ],
      "metadata": {
        "colab": {
          "base_uri": "https://localhost:8080/"
        },
        "id": "YnVEqNH-7Yaf",
        "outputId": "fb682aa0-3cc2-4d3d-d3ca-d5b8b3ca1c6a"
      },
      "execution_count": null,
      "outputs": [
        {
          "output_type": "stream",
          "name": "stdout",
          "text": [
            "# World-Famous Monuments: A Mini History Tour! 🌍\n",
            "\n",
            "Hello, junior historians! Today we're going to explore some AMAZING structures that people built a long, LONG time ago! (Like, even before TikTok existed! Can you believe it? 😱)\n",
            "\n",
            "## The Eiffel Tower 🗼\n",
            "This super tall tower stands in Paris, France and was completed in 1889! It was like the world's biggest selfie stick of its time! \"Bonjour, everyone! Just hanging out 1,063 feet in the air!\"\n",
            "\n",
            "## The Taj Mahal 💕\n",
            "This beautiful building is actually a super fancy tomb! Emperor Shah Jahan built it as a gigantic \"I love you\" card for his wife. Talk about relationship goals! Most of us just get flowers!\n",
            "\n",
            "## The Great Wall of China 🧱\n",
            "This MASSIVE wall was built to keep invaders out of China. It's like when your little brother puts a \"KEEP OUT\" sign on his door, except it's 13,000 miles long! That's one serious \"Do Not Disturb\" sign!\n",
            "\n",
            "## The Statue of Liberty 🗽\n",
            "This green lady was a present from France to the United States! Imagine getting this for your birthday instead of socks! \"Thanks for the giant statue, France! Where should I put it?\"\n",
            "\n",
            "## The Pyramids of Giza 🏰\n",
            "These triangular wonders are SO old they're considered one of the Seven Wonders of the Ancient World! They were built without trucks, cranes, or even wheelbarrows. No wonder it took so long - they didn't even have coffee breaks!\n",
            "\n",
            "Remember, class: these monuments tell us stories about our past! Any questions? Just raise your hand—or better yet, build a monument to your question! (Just kidding, please don't build anything in the classroom!)\n"
          ]
        }
      ]
    },
    {
      "cell_type": "markdown",
      "source": [
        "## Next Steps\n",
        "\n",
        "Congratulations! You have successfully connected Pinecone to an Orq deployment and passed external retrieval results into a live workflow.\n",
        "\n",
        "This pattern works the same way with any external vector database. You retrieve the most relevant chunks, pass them as context, and let Orq handle generation and orchestration.\n",
        "\n",
        "To improve and scale this setup inside Orq:\n",
        "\n",
        "* Use **RAGAS inside Orq** to evaluate the quality of retrieved chunks before they reach the model. This helps you understand if the retrieval step is actually helping the model generate better answers.\n",
        "\n",
        "* Connect other vector databases such as Qdrant or Weaviate using the same interface\n",
        "\n",
        "* Experiment with prompt variations and test their impact using Orq's built-in evaluation tooling\n",
        "\n",
        "* Version, deploy, and monitor your pipelines using Orq’s production features\n",
        "\n",
        "If you want to get started even faster, you can skip external setup entirely by using **Orq’s fully hosted vector database**, powered by Pinecone. It handles embedding, indexing, and retrieval out of the box, so you can focus on designing great applications.\n",
        "\n",
        "For more examples and integrations, visit the [Orq documentation.](https://docs.orq.ai/docs/introduction)"
      ],
      "metadata": {
        "id": "LWgqO7-_Mb40"
      }
    }
  ],
  "metadata": {
    "colab": {
      "provenance": []
    },
    "kernelspec": {
      "display_name": "Python 3 (ipykernel)",
      "language": "python",
      "name": "python3"
    },
    "language_info": {
      "codemirror_mode": {
        "name": "ipython",
        "version": 3
      },
      "file_extension": ".py",
      "mimetype": "text/x-python",
      "name": "python",
      "nbconvert_exporter": "python",
      "pygments_lexer": "ipython3",
      "version": "3.12.9"
    }
  },
  "nbformat": 4,
  "nbformat_minor": 0
}