{
 "cells": [
  {
   "cell_type": "markdown",
   "metadata": {},
   "source": [
    "# Files\n",
    "\n",
    "## Overview\n",
    "\n",
    "### Available Operations\n",
    "\n",
    "* [create](#create) - create files\n",
    "* [list](#list) - list all the files\n",
    "* [get](#Get) - Retrieve all the files\n",
    "* [delete](#delete) - delete files"
   ]
  },
  {
   "cell_type": "markdown",
   "metadata": {},
   "source": [
    "### Setup\n",
    "\n",
    "Before trying out the code set up the virtual environment and the environment variable. \n",
    "\n",
    "On the terminal go to the project directory, activate the virtual environment and install Orq sdk:"
   ]
  },
  {
   "cell_type": "code",
   "execution_count": null,
   "metadata": {},
   "outputs": [],
   "source": [
    "#  pip install orq-ai-sdk - latest version"
   ]
  },
  {
   "cell_type": "markdown",
   "metadata": {},
   "source": [
    "Next set up the API key:"
   ]
  },
  {
   "cell_type": "code",
   "execution_count": null,
   "metadata": {},
   "outputs": [],
   "source": [
    "import os\n",
    "\n",
    "os.environ[\"ORQ_API_KEY\"] = \"\" # Your Api key here"
   ]
  },
  {
   "cell_type": "code",
   "execution_count": null,
   "metadata": {},
   "outputs": [],
   "source": [
    "from orq_ai_sdk import Orq\n",
    "import os\n",
    "\n",
    "orq = Orq(server_url=\"https://my.staging.orq.ai\", api_key=os.getenv(\"ORQ_API_KEY\"))"
   ]
  },
  {
   "cell_type": "markdown",
   "metadata": {},
   "source": [
    "## Create\n",
    "\n",
    "Files are used to upload documents that can be used with features like Deployments.\n",
    "\n"
   ]
  },
  {
   "cell_type": "code",
   "execution_count": null,
   "metadata": {},
   "outputs": [],
   "source": [
    "from orq_ai_sdk import Orq\n",
    "from orq_ai_sdk.models import FileUploadRequestBody, File\n",
    "\n",
    "file_path = \"test-file.txt\"\n",
    "\n",
    "with open(file_path, \"r\") as f:\n",
    "    file_content = f.read()\n",
    "\n",
    "# Create a File object \n",
    "file_obj = File(\n",
    "    file_name= \"test-file.txt\",\n",
    "    content=file_content, \n",
    ")\n",
    "\n",
    "request_obj = FileUploadRequestBody(\n",
    "    file=file_obj\n",
    ")\n",
    "\n",
    "res = orq.files.create(request=request_obj)\n",
    "\n",
    "if res:\n",
    "    print(\"File uploaded successfully:\", res)\n",
    "else:\n",
    "    print(\"File upload failed!\")\n"
   ]
  },
  {
   "cell_type": "markdown",
   "metadata": {},
   "source": [
    "## LIST\n",
    "\n",
    "Returns a list of the files that your account has access to. orq.ai sorts and returns the files by their creation dates, placing the most recently created files at the top.\n",
    "\n"
   ]
  },
  {
   "cell_type": "code",
   "execution_count": null,
   "metadata": {},
   "outputs": [],
   "source": [
    "res = orq.files.list()\n",
    "\n",
    "print(res.data)\n",
    "\n",
    "print(\"\")\n",
    "print(\"Your Files:\")\n",
    "for file in res.data:\n",
    "    print(file.id)\n"
   ]
  },
  {
   "cell_type": "markdown",
   "metadata": {},
   "source": [
    "## GET\n",
    "Retrieves the details of an existing file object. After you supply a unique file ID, orq.ai returns the corresponding file object\n",
    "\n",
    "\n",
    "\n"
   ]
  },
  {
   "cell_type": "code",
   "execution_count": null,
   "metadata": {},
   "outputs": [],
   "source": [
    "unique_file_id = \"\" #enter the unique id of the file you want to get information about"
   ]
  },
  {
   "cell_type": "code",
   "execution_count": null,
   "metadata": {},
   "outputs": [],
   "source": [
    "res = orq.files.get(file_id = unique_file_id)\n",
    "\n",
    "print(res)"
   ]
  },
  {
   "cell_type": "markdown",
   "metadata": {},
   "source": [
    "## Delete\n",
    "\n",
    "Deletes a chosen file."
   ]
  },
  {
   "cell_type": "code",
   "execution_count": null,
   "metadata": {},
   "outputs": [],
   "source": [
    "print(\"Your files before deletion:\")\n",
    "for file in orq.files.list().data:\n",
    "    print(file.id)\n",
    "\n",
    "res = orq.files.delete(file_id=unique_file_id)\n",
    "\n",
    "print(\"\")\n",
    "print(\"Your files after deletion:\")\n",
    "for file in orq.files.list().data:\n",
    "    print(file.id)"
   ]
  }
 ],
 "metadata": {
  "kernelspec": {
   "display_name": ".venv",
   "language": "python",
   "name": "python3"
  },
  "language_info": {
   "codemirror_mode": {
    "name": "ipython",
    "version": 3
   },
   "file_extension": ".py",
   "mimetype": "text/x-python",
   "name": "python",
   "nbconvert_exporter": "python",
   "pygments_lexer": "ipython3",
   "version": "3.12.3"
  }
 },
 "nbformat": 4,
 "nbformat_minor": 2
}
