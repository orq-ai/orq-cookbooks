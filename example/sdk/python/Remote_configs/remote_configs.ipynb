{
 "cells": [
  {
   "cell_type": "markdown",
   "metadata": {},
   "source": [
    "# Remote configurations\n",
    "\n",
    "## Overview\n",
    "\n",
    "### Available Operations\n",
    "\n",
    "* [retrieve](#Retrieve) -  Retrieves a remote configuration\n",
    "\n",
    "\n"
   ]
  },
  {
   "cell_type": "markdown",
   "metadata": {},
   "source": [
    "### Setup\n",
    "\n",
    "Before trying out the code set up the virtual environment and the environment variable. \n",
    "\n",
    "On the terminal go to the project directory, activate the virtual environment and install Orq sdk:"
   ]
  },
  {
   "cell_type": "code",
   "execution_count": null,
   "metadata": {},
   "outputs": [],
   "source": [
    "# pip install orq-ai-sdk - latest version"
   ]
  },
  {
   "cell_type": "markdown",
   "metadata": {},
   "source": [
    "Next set up the API key:"
   ]
  },
  {
   "cell_type": "code",
   "execution_count": null,
   "metadata": {},
   "outputs": [],
   "source": [
    "import os\n",
    "\n",
    "os.environ[\"ORQ_API_KEY\"] = \"\" # Your Api key here"
   ]
  },
  {
   "cell_type": "code",
   "execution_count": null,
   "metadata": {},
   "outputs": [],
   "source": [
    "from orq_ai_sdk import Orq\n",
    "\n",
    "orq = Orq(server_url=\"https://my.orq.ai\", api_key=os.getenv(\"ORQ_API_KEY\"))"
   ]
  },
  {
   "cell_type": "markdown",
   "metadata": {},
   "source": [
    "## Retrieve\n",
    "Retrieve a remote configurations"
   ]
  },
  {
   "cell_type": "code",
   "execution_count": null,
   "metadata": {},
   "outputs": [],
   "source": [
    "request_obj = {\n",
    "  \"key\": \"\"  # Your remote config key here\n",
    "}\n",
    "\n",
    "res = orq.remoteconfigs.retrieve(request=request_obj)\n",
    "print(res)"
   ]
  }
 ],
 "metadata": {
  "kernelspec": {
   "display_name": "Python 3",
   "language": "python",
   "name": "python3"
  },
  "language_info": {
   "codemirror_mode": {
    "name": "ipython",
    "version": 3
   },
   "file_extension": ".py",
   "mimetype": "text/x-python",
   "name": "python",
   "nbconvert_exporter": "python",
   "pygments_lexer": "ipython3",
   "version": "3.12.3"
  }
 },
 "nbformat": 4,
 "nbformat_minor": 2
}
