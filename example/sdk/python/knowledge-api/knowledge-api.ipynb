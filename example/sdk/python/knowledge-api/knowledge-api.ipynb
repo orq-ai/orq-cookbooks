{
  "cells": [
    {
      "cell_type": "markdown",
      "id": "8472fc24",
      "metadata": {},
      "source": [
        "# Orq Knowledge Base SDK Usage Examples\n",
        "\n",
        "This notebook provides practical examples of using the Orq SDK to work with Knowledge Bases. The examples cover all the key operations from the OpenAPI schema including:\n",
        "\n",
        "- Listing knowledge bases\n",
        "- Creating a knowledge base\n",
        "- Retrieving a knowledge base\n",
        "- Updating a knowledge base\n",
        "- Deleting a knowledge base\n",
        "- Searching a knowledge base\n",
        "- Working with datasources\n",
        "- Working with chunks\n",
        "\n",
        "Let's start by setting up the SDK."
      ]
    },
    {
      "cell_type": "markdown",
      "id": "b13d8327",
      "metadata": {},
      "source": [
        "### Setup\n",
        "\n",
        "Before trying out the code set up the virtual environment and the environment variable. \n",
        "\n",
        "On the terminal go to the project directory, activate the virtual environment and install Orq sdk:"
      ]
    },
    {
      "cell_type": "markdown",
      "id": "86925304",
      "metadata": {
        "vscode": {
          "languageId": "powershell"
        }
      },
      "source": [
        "**pip install orq-ai-sdk**"
      ]
    },
    {
      "cell_type": "markdown",
      "id": "0eacd7f7",
      "metadata": {},
      "source": [
        "Next set up the API key:"
      ]
    },
    {
      "cell_type": "code",
      "execution_count": null,
      "id": "6d6c876b",
      "metadata": {},
      "outputs": [],
      "source": [
        "import os\n",
        "\n",
        "os.environ[\"ORQ_API_KEY\"] = \"\" # Your Api key here"
      ]
    },
    {
      "cell_type": "code",
      "execution_count": null,
      "id": "c4574033",
      "metadata": {},
      "outputs": [],
      "source": [
        "from orq_ai_sdk import Orq\n",
        "import os\n",
        "\n",
        "orq = Orq(server_url=\"\", api_key=os.getenv(\"ORQ_API_KEY\"))"
      ]
    },
    {
      "cell_type": "code",
      "execution_count": null,
      "id": "0049b440",
      "metadata": {},
      "outputs": [],
      "source": [
        "import json\n",
        "\n",
        "# Function to pretty print JSON responses\n",
        "def pretty_print(obj):\n",
        "    print(json.dumps(obj, indent=2))\n",
        "    \n",
        "def print_chunk(chunk):\n",
        "    print(f\"  ID       : {chunk.id}\")\n",
        "    print(f\"  Status   : {chunk.status}\")\n",
        "    print(f\"  Enabled  : {chunk.enabled}\")\n",
        "    print(f\"  Created  : {chunk.created}\")\n",
        "    print(f\"  Updated  : {chunk.updated}\")\n",
        "    print(f\"  Metadata : {chunk.metadata}\")\n",
        "    print(f\"  Text     : {chunk.text}\")\n",
        "    print(\"-\" * 60)"
      ]
    },
    {
      "cell_type": "markdown",
      "id": "60264561",
      "metadata": {},
      "source": [
        "## 1. List all knowledge bases"
      ]
    },
    {
      "cell_type": "markdown",
      "id": "13139010",
      "metadata": {},
      "source": [
        "Returns a list of your knowledge bases. The knowledge bases are returned sorted by creation date, with the most recent knowledge bases appearing first"
      ]
    },
    {
      "cell_type": "code",
      "execution_count": null,
      "id": "9de25350",
      "metadata": {},
      "outputs": [],
      "source": [
        "# List all knowledge bases (default limit of 10)\n",
        "kb_list = orq.knowledge.list()\n",
        "\n",
        "if len(kb_list.data) > 0:\n",
        "   print(\"Your knowledge bases:\")\n",
        "   for kb in kb_list.data:\n",
        "      print(kb.id)\n",
        "else:\n",
        "   print(\"No knowledge added yet\")\n",
        "\n",
        "print(\"\")\n",
        "# With pagination parameters\n",
        "kb_list_paginated = orq.knowledge.list(\n",
        "   limit=10\n",
        ")\n",
        "pretty_print(json.loads(kb_list_paginated.model_dump_json()))"
      ]
    },
    {
      "cell_type": "markdown",
      "id": "4eed23d0",
      "metadata": {},
      "source": [
        "## 2. Create a knowledge"
      ]
    },
    {
      "cell_type": "markdown",
      "id": "deaac909",
      "metadata": {},
      "source": [
        "Endpoint: `POST /v2/knowledge`"
      ]
    },
    {
      "cell_type": "code",
      "execution_count": null,
      "id": "67b22a7c",
      "metadata": {},
      "outputs": [],
      "source": [
        "# Create a new knowledge base with vector search retrieval settings\n",
        "new_kb = orq.knowledge.create(\n",
        "    key=\"Testing_KB\",  # Unique identifier for the knowledge base\n",
        "    embedding_model=\"cohere/embed-multilingual-v3.0\",  # Embeddings model to use\n",
        "    path=\"Default\",  # Path in the project structure\n",
        "    description=\"Knowledge base for product documentation and FAQs\",  # Optional description\n",
        "    retrieval_settings={\n",
        "        \"type\": \"vector_search\",\n",
        "        \"top_k\": 5,  # Return top 5 most relevant chunks\n",
        "        \"threshold\": 0.7,  # Minimum similarity score (0-1)\n",
        "        \"rerank_config\": {\n",
        "            \"enabled\": True,\n",
        "            \"provider\": \"cohere\",\n",
        "            \"rerank_model\": \"cohere/embed-multilingual-v3.0\",\n",
        "            \"model_type\": \"rerank\"\n",
        "        }\n",
        "    }\n",
        ")\n",
        "\n",
        "# Store the knowledge base ID for later use\n",
        "kb_id = new_kb.id\n",
        "\n",
        "print(f\"Created knowledge base with ID: {kb_id}\")\n",
        "\n",
        "pretty_print(json.loads(new_kb.model_dump_json()))"
      ]
    },
    {
      "cell_type": "markdown",
      "id": "bc8120e0",
      "metadata": {},
      "source": [
        "## 3. Retrieves a knowledge base"
      ]
    },
    {
      "cell_type": "markdown",
      "id": "2ab65aa8",
      "metadata": {},
      "source": [
        "Retrieve a knowledge base with the settings."
      ]
    },
    {
      "cell_type": "code",
      "execution_count": null,
      "id": "75c8a9d9",
      "metadata": {},
      "outputs": [],
      "source": [
        "# Example for `retrieve`\n",
        "kb_id = \"\" # enter the knowledge base id here\n",
        "\n",
        "# Retrieve a specific knowledge base\n",
        "kb_details = orq.knowledge.retrieve(knowledge_id=kb_id)\n",
        "\n",
        "pretty_print(json.loads(kb_details.model_dump_json()))"
      ]
    },
    {
      "cell_type": "markdown",
      "id": "019ee3a9",
      "metadata": {},
      "source": [
        "## 4. Updates a knowledge"
      ]
    },
    {
      "cell_type": "markdown",
      "id": "a94a01f7",
      "metadata": {},
      "source": [
        "Endpoint: `PATCH /v2/knowledge/{knowledge_id}`"
      ]
    },
    {
      "cell_type": "code",
      "execution_count": null,
      "id": "edeef697",
      "metadata": {},
      "outputs": [],
      "source": [
        "# Update the knowledge base settings\n",
        "\n",
        "kb_id = \"\" # enter the knowledge base id here\n",
        "\n",
        "updated_kb = orq.knowledge.update(\n",
        "    knowledge_id=kb_id,\n",
        "    description=\"Updated product documentation knowledge base\",\n",
        "    retrieval_settings={\n",
        "        \"type\": \"hybrid_search\",  # Change to hybrid search\n",
        "        \"top_k\": 8,  # Increase top_k to 8\n",
        "        \"threshold\": 0.6  # Lower threshold to 0.6\n",
        "    }\n",
        ")\n",
        "pretty_print(json.loads(updated_kb.model_dump_json()))"
      ]
    },
    {
      "cell_type": "markdown",
      "id": "9a4755c2",
      "metadata": {},
      "source": [
        "## 5. Deletes a knowledge"
      ]
    },
    {
      "cell_type": "markdown",
      "id": "ed2e057a",
      "metadata": {},
      "source": [
        "Deletes a knowledge base. Deleting a knowledge base will delete all the datasources and chunks associated with it."
      ]
    },
    {
      "cell_type": "code",
      "execution_count": null,
      "id": "082206c1",
      "metadata": {},
      "outputs": [],
      "source": [
        "kb_id = \"\" # enter the knowledge base id here\n",
        "\n",
        "# list kb before deletion (default limit of 10)\n",
        "kb_list = orq.knowledge.list()\n",
        "\n",
        "if len(kb_list.data) > 0:\n",
        "   print(\"Your knowledge bases before:\")\n",
        "   print(\"knowledge base count:\", len(kb_list.data))\n",
        "   for kb in kb_list.data:\n",
        "      print(kb.id)\n",
        "else:\n",
        "   print(\"No knowledge added yet\")\n",
        "\n",
        "# Example for `delete`\n",
        "response = orq.knowledge.delete(\n",
        "    knowledge_id = kb_id)\n",
        "\n",
        "print(\"\")\n",
        "\n",
        "# list kb after deletion (default limit of 10)\n",
        "kb_list = orq.knowledge.list()\n",
        "\n",
        "if len(kb_list.data) > 0:\n",
        "   print(\"Your knowledge bases after:\")\n",
        "   print(\"knowledge base counnt:\", len(kb_list.data))\n",
        "   for kb in kb_list.data:\n",
        "      print(kb.id)\n",
        "else:\n",
        "   print(\"No knowledge added yet\")"
      ]
    },
    {
      "cell_type": "markdown",
      "id": "e15417d9",
      "metadata": {},
      "source": [
        "## 6. Retrieves the documents used for retrieval"
      ]
    },
    {
      "cell_type": "markdown",
      "id": "cc50a358",
      "metadata": {},
      "source": [
        "Endpoint: `POST /v2/knowledge/{knowledge_id}/search`"
      ]
    },
    {
      "cell_type": "code",
      "execution_count": null,
      "id": "2f81739c",
      "metadata": {},
      "outputs": [],
      "source": [
        "kb_id = \"\" # enter the knowledge base id here\n",
        "\n",
        "# Search for documents in the knowledge base\n",
        "search_results = orq.knowledge.search(\n",
        "    knowledge_id=kb_id,\n",
        "    query=\"How do I reset my password?\",\n",
        "    retrieval_config={\n",
        "        \"type\": \"vector_search\",\n",
        "        \"top_k\": 3,\n",
        "        \"threshold\": 0.7\n",
        "    }\n",
        ")\n",
        "pretty_print(json.loads(search_results.model_dump_json()))"
      ]
    },
    {
      "cell_type": "markdown",
      "id": "f3e9ab2e",
      "metadata": {},
      "source": [
        "## 7. List all datasources"
      ]
    },
    {
      "cell_type": "markdown",
      "id": "5759cba2",
      "metadata": {},
      "source": [
        "Endpoint: `GET /v2/knowledge/{knowledge_id}/datasources`"
      ]
    },
    {
      "cell_type": "code",
      "execution_count": null,
      "id": "bbad64b5",
      "metadata": {},
      "outputs": [],
      "source": [
        "kb_id = \"\" # enter the knowledge base id here\n",
        "\n",
        "# List all datasources in a knowledge base (default limit of 10)\n",
        "datasources = orq.knowledge.list_datasources(\n",
        "    knowledge_id=kb_id,\n",
        "    limit=10\n",
        ")\n",
        "\n",
        "if len(datasources.data) > 0:\n",
        "   print(f\"Datasources in knowledge base {kb_id}:\")\n",
        "   for datasource in datasources.data:\n",
        "      print(datasource.id)\n",
        "else:\n",
        "   print(f\"No datasources in knowledge base {kb_id}\")\n",
        "\n",
        "print(\"\")\n",
        "pretty_print(json.loads(datasources.model_dump_json()))"
      ]
    },
    {
      "cell_type": "markdown",
      "id": "d7c3f3ca",
      "metadata": {},
      "source": [
        "## 8. Create a new datasource"
      ]
    },
    {
      "cell_type": "markdown",
      "id": "c4eb96ad",
      "metadata": {},
      "source": [
        "Endpoint: `POST /v2/knowledge/{knowledge_id}/datasources`"
      ]
    },
    {
      "cell_type": "code",
      "execution_count": null,
      "id": "705904ff",
      "metadata": {},
      "outputs": [],
      "source": [
        "kb_id = \"\" # enter the knowledge base id here\n",
        "datasource_id = \"\" # enter the datasource id here\n",
        "\n",
        "# Create a pending datasource\n",
        "datasource = orq.knowledge.create_datasource(\n",
        "    knowledge_id=kb_id,\n",
        "    display_name=\"Product Manual\",\n",
        "    chunking_options={\n",
        "        \"chunking_configuration\": {\n",
        "            \"type\": \"advanced\",\n",
        "            \"chunk_max_characters\": 1000,\n",
        "            \"chunk_overlap\": 100\n",
        "        },\n",
        "        \"chunking_cleanup_options\": {\n",
        "            \"clean_whitespaces\": True,\n",
        "            \"clean_bullet_points\": False,\n",
        "            \"clean_numbered_list\": False\n",
        "        }\n",
        "    }\n",
        ")\n",
        "\n",
        "datasource_id = datasource.id\n",
        "print(f\"Created datasource with ID: {datasource_id}\")\n",
        "print(\"\")\n",
        "pretty_print(json.loads(datasource.model_dump_json()))"
      ]
    },
    {
      "cell_type": "markdown",
      "id": "5f0ad4e6",
      "metadata": {},
      "source": [
        "## 9. Retrieve a datasource"
      ]
    },
    {
      "cell_type": "markdown",
      "id": "44954795",
      "metadata": {},
      "source": [
        "Endpoint: `GET /v2/knowledge/{knowledge_id}/datasources/{datasource_id}`"
      ]
    },
    {
      "cell_type": "code",
      "execution_count": null,
      "id": "84ec6865",
      "metadata": {},
      "outputs": [],
      "source": [
        "kb_id = \"\" # enter the knowledge base id here\n",
        "datasource_id = \"\" # enter the datasource id here\n",
        "\n",
        "retrieved_datasource = orq.knowledge.retrieve_datasource(\n",
        "    knowledge_id = kb_id,  \n",
        "    datasource_id = datasource_id\n",
        ")\n",
        "\n",
        "pretty_print(json.loads(retrieved_datasource.model_dump_json()))"
      ]
    },
    {
      "cell_type": "markdown",
      "id": "db78ced5",
      "metadata": {},
      "source": [
        "## 10. Update a datasource"
      ]
    },
    {
      "cell_type": "markdown",
      "id": "9accd3a5",
      "metadata": {},
      "source": [
        "Endpoint: `PATCH /v2/knowledge/{knowledge_id}/datasources/{datasource_id}`"
      ]
    },
    {
      "cell_type": "code",
      "execution_count": null,
      "id": "ac6435e6",
      "metadata": {},
      "outputs": [],
      "source": [
        "kb_id = \"\" # enter the knowledge base id here\n",
        "datasource_id = \"\" # enter the datasource id here\n",
        "\n",
        "# Example for `retrieveDatasource`\n",
        "updated_datasource = orq.knowledge.update_datasource(\n",
        "    knowledge_id = kb_id,  \n",
        "    datasource_id = datasource_id,\n",
        "    display_name = \"updated_datasource\"\n",
        ")\n",
        "\n",
        "pretty_print(json.loads(updated_datasource.model_dump_json()))\n",
        "\n"
      ]
    },
    {
      "cell_type": "markdown",
      "id": "d1f6f7fa",
      "metadata": {},
      "source": [
        "## 11. Deletes a datasource"
      ]
    },
    {
      "cell_type": "markdown",
      "id": "09e83fe1",
      "metadata": {},
      "source": [
        "Deletes a datasource from a knowledge base. Deleting a datasource will remove it from the knowledge base and all associated chunks. This action is irreversible and cannot be undone."
      ]
    },
    {
      "cell_type": "code",
      "execution_count": null,
      "id": "87471eca",
      "metadata": {},
      "outputs": [],
      "source": [
        "kb_id = \"\" # enter the knowledge base id here\n",
        "datasource_id = \"\" # enter the datasource id here\n",
        "\n",
        "# Delete a datasource\n",
        "delete_datasource_result = orq.knowledge.delete_datasource(\n",
        "    knowledge_id=kb_id,\n",
        "    datasource_id=datasource_id\n",
        ")\n",
        "print(f\"Datasource deleted successfully\")"
      ]
    },
    {
      "cell_type": "markdown",
      "id": "9607251f",
      "metadata": {},
      "source": [
        "## 12. List all chunks for a datasource"
      ]
    },
    {
      "cell_type": "markdown",
      "id": "8560ff0e",
      "metadata": {},
      "source": [
        "Endpoint: `GET /v2/knowledge/{knowledge_id}/datasources/{datasource_id}/chunks`"
      ]
    },
    {
      "cell_type": "code",
      "execution_count": null,
      "id": "fa60795a",
      "metadata": {},
      "outputs": [],
      "source": [
        "kb_id = \"\" # enter the knowledge base id here\n",
        "datasource_id = \"\" # enter the datasource id here\n",
        "\n",
        "# List all chunks (default limit of 10)\n",
        "chunk_list = orq.knowledge.list_chunks(\n",
        "    knowledge_id = kb_id,    \n",
        "    datasource_id= datasource_id\n",
        ")\n",
        "\n",
        "if len(chunk_list.data) > 0:\n",
        "   print(\"Your chunks:\")\n",
        "   for chunk in chunk_list.data:\n",
        "      print_chunk(chunk)\n",
        "else:\n",
        "   print(\"No chunks added yet\")\n"
      ]
    },
    {
      "cell_type": "markdown",
      "id": "ea6eb78a",
      "metadata": {},
      "source": [
        "## 13. Create chunks for a datasource"
      ]
    },
    {
      "cell_type": "markdown",
      "id": "14343563",
      "metadata": {},
      "source": [
        "Endpoint: `POST /v2/knowledge/{knowledge_id}/datasources/{datasource_id}/chunks`"
      ]
    },
    {
      "cell_type": "code",
      "execution_count": null,
      "id": "e3c975a1",
      "metadata": {},
      "outputs": [],
      "source": [
        "kb_id = \"\" # enter the knowledge base id here\n",
        "datasource_id = \"\" # enter the datasource id here\n",
        "\n",
        "# Create custom text chunks\n",
        "chunks = orq.knowledge.create_chunks(\n",
        "    knowledge_id=kb_id,\n",
        "    datasource_id=datasource_id,\n",
        "    request_body= [\n",
        "        {\n",
        "            \"text\": \"To reset your password, navigate to the Settings page and click on 'Reset Password'. You will receive an email with further instructions.\",\n",
        "            \"metadata\": {\n",
        "                \"page_number\": 12\n",
        "            }\n",
        "        },\n",
        "        {\n",
        "            \"text\": \"The product supports integration with various third-party tools including Slack, Microsoft Teams, and Google Workspace.\",\n",
        "            \"metadata\": {\n",
        "                \"page_number\": 15\n",
        "            }\n",
        "        }\n",
        "    ]\n",
        ")\n",
        "for i, chunk in enumerate(chunks, start=1):\n",
        "    print_chunk(chunk)\n"
      ]
    },
    {
      "cell_type": "markdown",
      "id": "fca5e5fd",
      "metadata": {},
      "source": [
        "## 14. Retrieve a chunk"
      ]
    },
    {
      "cell_type": "markdown",
      "id": "0aeeb17f",
      "metadata": {},
      "source": [
        "Endpoint: `GET /v2/knowledge/{knowledge_id}/datasources/{datasource_id}/chunks/{chunk_id}`"
      ]
    },
    {
      "cell_type": "code",
      "execution_count": null,
      "id": "fcda5b6d",
      "metadata": {},
      "outputs": [],
      "source": [
        "kb_id = \"\" # enter the knowledge base id here\n",
        "datasource_id = \"\" # enter the datasource id here\n",
        "chunk_id = \"\" # enter the chunk id here\n",
        "\n",
        "# Example for `retireveChunk`\n",
        "chunk = orq.knowledge.retrieve_chunk(\n",
        "  knowledge_id = kb_id,    \n",
        "  datasource_id= datasource_id,\n",
        "  chunk_id = chunk_id,\n",
        ")\n",
        "\n",
        "print_chunk(chunk)"
      ]
    },
    {
      "cell_type": "markdown",
      "id": "6a33f6aa",
      "metadata": {},
      "source": [
        "## 15. Update a chunk"
      ]
    },
    {
      "cell_type": "markdown",
      "id": "01a78826",
      "metadata": {},
      "source": [
        "Endpoint: `PATCH /v2/knowledge/{knowledge_id}/datasources/{datasource_id}/chunks/{chunk_id}`"
      ]
    },
    {
      "cell_type": "code",
      "execution_count": null,
      "id": "2dda4a52",
      "metadata": {},
      "outputs": [],
      "source": [
        "kb_id = \"\" # enter the knowledge base id here\n",
        "datasource_id = \"\" # enter the datasource id here\n",
        "chunk_id = \"\" # enter the chunk id here\n",
        "\n",
        "chunk = orq.knowledge.retrieve_chunk(\n",
        "  knowledge_id = kb_id,    \n",
        "  datasource_id= datasource_id,\n",
        "  chunk_id = chunk_id,\n",
        ")\n",
        "print_chunk(chunk)"
      ]
    },
    {
      "cell_type": "markdown",
      "id": "5181a2e6",
      "metadata": {},
      "source": [
        "## 16. Delete a chunk"
      ]
    },
    {
      "cell_type": "markdown",
      "id": "b677f521",
      "metadata": {},
      "source": [
        "Endpoint: `DELETE /v2/knowledge/{knowledge_id}/datasources/{datasource_id}/chunks/{chunk_id}`"
      ]
    },
    {
      "cell_type": "code",
      "execution_count": null,
      "id": "92ad7e97",
      "metadata": {},
      "outputs": [],
      "source": [
        "kb_id = \"\" # enter the knowledge base id here\n",
        "datasource_id = \"\" # enter the datasource id here\n",
        "chunk_id = \"\" # enter the chunk id here\n",
        "\n",
        "response = orq.knowledge.delete_chunk(\n",
        "  knowledge_id = kb_id,    \n",
        "  datasource_id= datasource_id,\n",
        "  chunk_id = chunk_id,\n",
        ")\n",
        "print(response)"
      ]
    }
  ],
  "metadata": {
    "kernelspec": {
      "display_name": ".venv",
      "language": "python",
      "name": "python3"
    },
    "language_info": {
      "codemirror_mode": {
        "name": "ipython",
        "version": 3
      },
      "file_extension": ".py",
      "mimetype": "text/x-python",
      "name": "python",
      "nbconvert_exporter": "python",
      "pygments_lexer": "ipython3",
      "version": "3.12.3"
    }
  },
  "nbformat": 4,
  "nbformat_minor": 5
}
