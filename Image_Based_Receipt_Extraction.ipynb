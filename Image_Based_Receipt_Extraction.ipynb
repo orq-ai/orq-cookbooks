{
  "nbformat": 4,
  "nbformat_minor": 0,
  "metadata": {
    "colab": {
      "provenance": []
    },
    "kernelspec": {
      "name": "python3",
      "display_name": "Python 3"
    },
    "language_info": {
      "name": "python"
    }
  },
  "cells": [
    {
      "cell_type": "markdown",
      "source": [
        "## **Image-Based Receipt Extraction with Orq**\n",
        "\n",
        "---\n",
        "\n",
        "\n",
        "\n",
        "Handling unstructured data at scale is a common challenge, particularly when dealing with formats like .jpg and .png. Orq provides a robust solution for transforming these images into actionable data. This guide walks through the process of encoding images, sending them to Orq for processing, and extracting structured outputs efficiently. Whether it’s a handful of receipts or a large batch, this workflow ensures accuracy and scalability.\n",
        "\n",
        "To make things even easier, we’ve created this [Google Colab file](https://colab.research.google.com/drive/1ZJI7hbKanDKo14R1sh1D9HwPF0RENA42#scrollTo=yGQknhoWoM_B) that you can copy and run straight away after replacing the API key—the deployment is already live and ready in the deployment section. Below, we’ll run through the code step by step for further explanation.\n",
        "\n",
        "Ready to unlock Orq's magic?[ Sign up](https://orq.ai/create-account) to get started and keep the process rolling!\n",
        "\n",
        "**Step 1: Preparing the Environment**  \n",
        "Before diving into image processing, the necessary tools must be in place. Installing the Orq SDK is quick and straightforward, setting the stage for seamless integration."
      ],
      "metadata": {
        "id": "nPskNRdFyeTK"
      }
    },
    {
      "cell_type": "code",
      "source": [
        "!pip install orq-ai-sdk\n",
        "\n",
        "#import\n",
        "import pandas as pd\n",
        "from google.colab import auth"
      ],
      "metadata": {
        "colab": {
          "base_uri": "https://localhost:8080/"
        },
        "id": "FaqaxBLgv98I",
        "outputId": "a22559b4-8cee-471a-b519-3772f92c42da"
      },
      "execution_count": null,
      "outputs": [
        {
          "output_type": "stream",
          "name": "stdout",
          "text": [
            "Collecting orq-ai-sdk\n",
            "  Downloading orq_ai_sdk-2.13.4.tar.gz (17 kB)\n",
            "  Installing build dependencies ... \u001b[?25l\u001b[?25hdone\n",
            "  Getting requirements to build wheel ... \u001b[?25l\u001b[?25hdone\n",
            "  Preparing metadata (pyproject.toml) ... \u001b[?25l\u001b[?25hdone\n",
            "Collecting deprecation<3.0.0,>=2.1.0 (from orq-ai-sdk)\n",
            "  Downloading deprecation-2.1.0-py2.py3-none-any.whl.metadata (4.6 kB)\n",
            "Collecting httpx<0.28.0,>=0.27.0 (from orq-ai-sdk)\n",
            "  Downloading httpx-0.27.2-py3-none-any.whl.metadata (7.1 kB)\n",
            "Requirement already satisfied: pydantic<3.0.0,>=2.6.1 in /usr/local/lib/python3.10/dist-packages (from orq-ai-sdk) (2.10.3)\n",
            "Requirement already satisfied: packaging in /usr/local/lib/python3.10/dist-packages (from deprecation<3.0.0,>=2.1.0->orq-ai-sdk) (24.2)\n",
            "Requirement already satisfied: anyio in /usr/local/lib/python3.10/dist-packages (from httpx<0.28.0,>=0.27.0->orq-ai-sdk) (3.7.1)\n",
            "Requirement already satisfied: certifi in /usr/local/lib/python3.10/dist-packages (from httpx<0.28.0,>=0.27.0->orq-ai-sdk) (2024.12.14)\n",
            "Requirement already satisfied: httpcore==1.* in /usr/local/lib/python3.10/dist-packages (from httpx<0.28.0,>=0.27.0->orq-ai-sdk) (1.0.7)\n",
            "Requirement already satisfied: idna in /usr/local/lib/python3.10/dist-packages (from httpx<0.28.0,>=0.27.0->orq-ai-sdk) (3.10)\n",
            "Requirement already satisfied: sniffio in /usr/local/lib/python3.10/dist-packages (from httpx<0.28.0,>=0.27.0->orq-ai-sdk) (1.3.1)\n",
            "Requirement already satisfied: h11<0.15,>=0.13 in /usr/local/lib/python3.10/dist-packages (from httpcore==1.*->httpx<0.28.0,>=0.27.0->orq-ai-sdk) (0.14.0)\n",
            "Requirement already satisfied: annotated-types>=0.6.0 in /usr/local/lib/python3.10/dist-packages (from pydantic<3.0.0,>=2.6.1->orq-ai-sdk) (0.7.0)\n",
            "Requirement already satisfied: pydantic-core==2.27.1 in /usr/local/lib/python3.10/dist-packages (from pydantic<3.0.0,>=2.6.1->orq-ai-sdk) (2.27.1)\n",
            "Requirement already satisfied: typing-extensions>=4.12.2 in /usr/local/lib/python3.10/dist-packages (from pydantic<3.0.0,>=2.6.1->orq-ai-sdk) (4.12.2)\n",
            "Requirement already satisfied: exceptiongroup in /usr/local/lib/python3.10/dist-packages (from anyio->httpx<0.28.0,>=0.27.0->orq-ai-sdk) (1.2.2)\n",
            "Downloading deprecation-2.1.0-py2.py3-none-any.whl (11 kB)\n",
            "Downloading httpx-0.27.2-py3-none-any.whl (76 kB)\n",
            "\u001b[2K   \u001b[90m━━━━━━━━━━━━━━━━━━━━━━━━━━━━━━━━━━━━━━━━\u001b[0m \u001b[32m76.4/76.4 kB\u001b[0m \u001b[31m2.8 MB/s\u001b[0m eta \u001b[36m0:00:00\u001b[0m\n",
            "\u001b[?25hBuilding wheels for collected packages: orq-ai-sdk\n",
            "  Building wheel for orq-ai-sdk (pyproject.toml) ... \u001b[?25l\u001b[?25hdone\n",
            "  Created wheel for orq-ai-sdk: filename=orq_ai_sdk-2.13.4-py3-none-any.whl size=23579 sha256=14061c73745ca2d5caab1578766599a26d0c49e368e54f6d3810842c35697661\n",
            "  Stored in directory: /root/.cache/pip/wheels/24/a7/7d/823d25efb69295bec7a2355ad01cea27f2c3fb4e3adc9b2d28\n",
            "Successfully built orq-ai-sdk\n",
            "Installing collected packages: deprecation, httpx, orq-ai-sdk\n",
            "  Attempting uninstall: httpx\n",
            "    Found existing installation: httpx 0.28.1\n",
            "    Uninstalling httpx-0.28.1:\n",
            "      Successfully uninstalled httpx-0.28.1\n",
            "Successfully installed deprecation-2.1.0 httpx-0.27.2 orq-ai-sdk-2.13.4\n"
          ]
        }
      ]
    },
    {
      "cell_type": "markdown",
      "source": [
        "With the SDK installed, the focus shifts to setting up the client and preparing the workflow.\n",
        "\n",
        "**Step 2: Setting Up the Orq Client**  \n",
        "The Orq client bridges your environment with Orq’s powerful APIs. By authenticating with an API key, it provides access to deployments that simplify data extraction from images.\n",
        "\n",
        "After you are logged into the platform, you can find your API key [here](https://my.orq.ai/orquesta-demos/settings/developers)."
      ],
      "metadata": {
        "id": "B2c-o6VtyncP"
      }
    },
    {
      "cell_type": "code",
      "source": [
        "import os\n",
        "\n",
        "from orq_ai_sdk import OrqAI\n",
        "\n",
        "client = OrqAI(\n",
        "  api_key=os.environ.get(\"ORQ_API_KEY\", \"your_api_key_here\"),\n",
        "  environment=\"production\"\n",
        ")"
      ],
      "metadata": {
        "id": "C_Dn6BO9yVkI"
      },
      "execution_count": null,
      "outputs": []
    },
    {
      "cell_type": "code",
      "source": [
        "client.set_user(id=2024)"
      ],
      "metadata": {
        "id": "-vxbgGWuy5vM"
      },
      "execution_count": null,
      "outputs": []
    },
    {
      "cell_type": "markdown",
      "source": [
        "Once connected, the client is ready to process image files for extraction.\n",
        "\n",
        "**Step 3: Converting Images to Base64**  \n",
        "To process images with Orq’s deployments, they must first be encoded into Base64 format. This section outlines how to process a folder of .jpg and .png files, preparing them for data extraction.\n",
        "\n",
        "To get you started, we’ve provided a Google Drive folder filled with .jpg files of receipts that you can copy and use to test and explore the workflow."
      ],
      "metadata": {
        "id": "aJtts4g7mvus"
      }
    },
    {
      "cell_type": "code",
      "source": [
        "import os\n",
        "import base64\n",
        "\n",
        "# Specify the folder containing image files\n",
        "folder_path = '/content/drive/MyDrive/receipts_test'\n",
        "\n",
        "# Get all .jpg and .png files from the folder\n",
        "image_files = [file for file in os.listdir(folder_path) if file.endswith(('.jpg', '.png'))]\n",
        "\n",
        "# List to store Base64-encoded data for each image\n",
        "base64_images = []\n",
        "\n",
        "# Iterate through image files and convert them to Base64\n",
        "for image_file in image_files:\n",
        "    file_path = os.path.join(folder_path, image_file)\n",
        "    try:\n",
        "        with open(file_path, 'rb') as img_file:\n",
        "            # Encode the image to Base64\n",
        "            base64_data = base64.b64encode(img_file.read()).decode('utf-8')\n",
        "            base64_images.append(base64_data)\n",
        "            print(f\"Encoded {image_file} to Base64.\")\n",
        "    except Exception as e:\n",
        "        print(f\"Error processing {image_file}: {e}\")\n",
        "\n",
        "# Output the Base64-encoded data for each image\n",
        "print(\"Base64-encoded images ready for processing.\")"
      ],
      "metadata": {
        "colab": {
          "base_uri": "https://localhost:8080/"
        },
        "id": "_6LDA0Rvm3M1",
        "outputId": "2d80bc38-dc06-49e3-e63b-882f015b2565"
      },
      "execution_count": null,
      "outputs": [
        {
          "output_type": "stream",
          "name": "stdout",
          "text": [
            "Encoded 000.jpg to Base64.\n",
            "Encoded 001.jpg to Base64.\n",
            "Encoded 008.jpg to Base64.\n",
            "Base64-encoded images ready for processing.\n"
          ]
        }
      ]
    },
    {
      "cell_type": "markdown",
      "source": [
        "**Step 5: Data Extraction Deployment**\n",
        "\n",
        "With images in Base64 format, the final step is to send each encoded image to Orq’s DataExtraction_Receipts deployment. This process extracts meaningful data fields, such as dates, vendor names, and amounts, from each image."
      ],
      "metadata": {
        "id": "vPeOCFi3y1CC"
      }
    },
    {
      "cell_type": "code",
      "source": [
        "# Iterate through each Base64-encoded image and invoke the deployment\n",
        "for base64_image in base64_images:\n",
        "    try:\n",
        "        # Construct the invocation payload\n",
        "        generation = client.deployments.invoke(\n",
        "            key=\"DataExtraction_Receipt\",\n",
        "            messages=[\n",
        "                {\n",
        "                    \"role\": \"user\",\n",
        "                    \"content\": [\n",
        "                        {\"text\": \"Extract what is on the receipt\", \"type\": \"text\"},\n",
        "                        {\n",
        "                            \"type\": \"image_url\",\n",
        "                            \"image_url\": {\n",
        "                                \"url\": \"data:image/png;base64,\" + base64_image\n",
        "                            },\n",
        "                        },\n",
        "                    ],\n",
        "                }\n",
        "            ],\n",
        "        )\n",
        "\n",
        "        # Print the extraction result for each image\n",
        "        print(f\"Extraction result: {generation.choices[0].message.content}\")\n",
        "\n",
        "    except Exception as e:\n",
        "        print(f\"Error invoking deployment for an image: {e}\")"
      ],
      "metadata": {
        "colab": {
          "base_uri": "https://localhost:8080/"
        },
        "id": "y5cclAAJGX_Y",
        "outputId": "517e54c1-6c39-4d5c-96f4-0e03996a6126"
      },
      "execution_count": null,
      "outputs": [
        {
          "output_type": "stream",
          "name": "stdout",
          "text": [
            "Extraction result: {\"Date\":\"2018-12-25\",\"Amount\":9.0,\"Category\":\"Office Supplies\",\"Vendor Name\":\"BOOK TA .K (TAMAN DAYA) SDN BHD\",\"Invoice Number\":\"TD01167104\",\"Payment Method\":\"Cash\"}\n",
            "Extraction result: {\"Date\":\"2018-10-19\",\"Amount\":60.3,\"Category\":\"Home Decor\",\"Vendor Name\":\"Indah Gift & Home Deco\",\"Invoice Number\":\"05010035279\",\"Payment Method\":\"Cash\"}\n",
            "Extraction result: {\"Date\":\"2018-02-12\",\"Amount\":112.46,\"Category\":\"Office Supplies\",\"Vendor Name\":\"Perniagaan Zheng Hui\",\"Invoice Number\":\"CS00082562\",\"Payment Method\":\"Cash\"}\n"
          ]
        }
      ]
    },
    {
      "cell_type": "markdown",
      "source": [
        "**What’s Next?**  \n",
        "Orq’s tools unlock powerful capabilities for handling unstructured image data. With this workflow, you can:\n",
        "\n",
        "- Scale Data Processing: Extend the workflow to process larger datasets or integrate it into existing systems.\n",
        "- Refine Model Outputs: Explore Orq's deployment configurations to optimize the data extraction process for specific image types or fields.\n",
        "- Automate Further: Combine this workflow with automated pipelines to streamline tasks like financial reporting or expense management.\n",
        "\n",
        "By bridging unstructured image data with structured outputs, Orq ensures that businesses can transform their operations and uncover new efficiencies with minimal effort."
      ],
      "metadata": {
        "id": "JbDGxmEvy9Vg"
      }
    },
    {
      "cell_type": "code",
      "source": [],
      "metadata": {
        "id": "HTes5gXBWTT5"
      },
      "execution_count": null,
      "outputs": []
    }
  ]
}